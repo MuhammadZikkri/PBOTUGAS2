{
  "nbformat": 4,
  "nbformat_minor": 0,
  "metadata": {
    "colab": {
      "provenance": [],
      "authorship_tag": "ABX9TyNRKOPxnyp/N3kEmgJTOtx+",
      "include_colab_link": true
    },
    "kernelspec": {
      "name": "python3",
      "display_name": "Python 3"
    },
    "language_info": {
      "name": "python"
    }
  },
  "cells": [
    {
      "cell_type": "markdown",
      "metadata": {
        "id": "view-in-github",
        "colab_type": "text"
      },
      "source": [
        "<a href=\"https://colab.research.google.com/github/MuhammadZikkri/PBOTUGAS2/blob/main/Mobil.ipynb\" target=\"_parent\"><img src=\"https://colab.research.google.com/assets/colab-badge.svg\" alt=\"Open In Colab\"/></a>"
      ]
    },
    {
      "cell_type": "code",
      "execution_count": 2,
      "metadata": {
        "colab": {
          "base_uri": "https://localhost:8080/"
        },
        "id": "35j0tTUZ25sf",
        "outputId": "3e038dc4-f4f7-48fb-9d12-46f0f03a6193"
      },
      "outputs": [
        {
          "output_type": "stream",
          "name": "stdout",
          "text": [
            "Mobil Pajero berwarna Hitam sedang dinyalakan.\n"
          ]
        }
      ],
      "source": [
        "class Mobil:\n",
        "    def __init__(self, merk, warna):\n",
        "        self.merk = merk\n",
        "        self.warna = warna\n",
        "\n",
        "    def nyalakan_mesin(self):\n",
        "        print(f\"Mobil {self.merk} berwarna {self.warna} sedang dinyalakan.\")\n",
        "\n",
        "# Membuat objek dari kelas Mobil\n",
        "Mobil = Mobil(\"Pajero\", \"Hitam\")\n",
        "Mobil.nyalakan_mesin()\n"
      ]
    }
  ]
}