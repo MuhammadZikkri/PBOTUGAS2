{
  "nbformat": 4,
  "nbformat_minor": 0,
  "metadata": {
    "colab": {
      "provenance": [],
      "authorship_tag": "ABX9TyNISkhrHP26nFO8HXY6Llc6",
      "include_colab_link": true
    },
    "kernelspec": {
      "name": "python3",
      "display_name": "Python 3"
    },
    "language_info": {
      "name": "python"
    }
  },
  "cells": [
    {
      "cell_type": "markdown",
      "metadata": {
        "id": "view-in-github",
        "colab_type": "text"
      },
      "source": [
        "<a href=\"https://colab.research.google.com/github/MuhammadZikkri/PBOTUGAS2/blob/main/Pegawai.ipynb\" target=\"_parent\"><img src=\"https://colab.research.google.com/assets/colab-badge.svg\" alt=\"Open In Colab\"/></a>"
      ]
    },
    {
      "cell_type": "code",
      "execution_count": 1,
      "metadata": {
        "colab": {
          "base_uri": "https://localhost:8080/"
        },
        "id": "QEY-kq561T9D",
        "outputId": "8b1ee684-3af7-4c71-c2bb-54d804a6ba9e"
      },
      "outputs": [
        {
          "output_type": "stream",
          "name": "stdout",
          "text": [
            "Pegawai Muhammad Zikkri memiliki gaji sebesar Rp2,500,000.\n"
          ]
        }
      ],
      "source": [
        "class Pegawai:\n",
        "    def __init__(self, nama, gaji):\n",
        "        self.nama = nama\n",
        "        self.gaji = gaji\n",
        "    def tampilkan_info(self):\n",
        "        print(f\"Pegawai {self.nama} memiliki gaji sebesar Rp{self.gaji:,}.\")\n",
        "\n",
        "# Membuat objek dari kelas Pegawai\n",
        "emp = Pegawai(\"Muhammad Zikkri\", 2500000)\n",
        "emp.tampilkan_info()\n"
      ]
    }
  ]
}