{
  "nbformat": 4,
  "nbformat_minor": 0,
  "metadata": {
    "colab": {
      "provenance": [],
      "authorship_tag": "ABX9TyMONxidNAYACDVK/W+P7/8v",
      "include_colab_link": true
    },
    "kernelspec": {
      "name": "python3",
      "display_name": "Python 3"
    },
    "language_info": {
      "name": "python"
    }
  },
  "cells": [
    {
      "cell_type": "markdown",
      "metadata": {
        "id": "view-in-github",
        "colab_type": "text"
      },
      "source": [
        "<a href=\"https://colab.research.google.com/github/MuhammadZikkri/PBOTUGAS2/blob/main/Persegi.ipynb\" target=\"_parent\"><img src=\"https://colab.research.google.com/assets/colab-badge.svg\" alt=\"Open In Colab\"/></a>"
      ]
    },
    {
      "cell_type": "code",
      "execution_count": 2,
      "metadata": {
        "colab": {
          "base_uri": "https://localhost:8080/"
        },
        "id": "kiaysDdL2bEz",
        "outputId": "20abd6a6-b69c-49bf-dcee-566160ec9aed"
      },
      "outputs": [
        {
          "output_type": "stream",
          "name": "stdout",
          "text": [
            "Persegi dengan sisi 10 memiliki luas 100.\n"
          ]
        }
      ],
      "source": [
        "class Persegi:\n",
        "    def __init__(self, sisi):\n",
        "        self.sisi = sisi\n",
        "    def hitung_luas(self):\n",
        "        luas = self.sisi ** 2\n",
        "        print(f\"Persegi dengan sisi {self.sisi} memiliki luas {luas}.\")\n",
        "\n",
        "# Membuat objek dari kelas Persegi\n",
        "sq = Persegi(10)\n",
        "sq.hitung_luas()\n"
      ]
    }
  ]
}